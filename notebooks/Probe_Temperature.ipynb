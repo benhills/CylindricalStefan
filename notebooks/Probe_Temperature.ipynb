{
 "cells": [
  {
   "cell_type": "code",
   "execution_count": null,
   "metadata": {},
   "outputs": [],
   "source": [
    "### Import libraries ###\n",
    "\n",
    "# Basic libraries\n",
    "import numpy as np\n",
    "import matplotlib.pyplot as plt\n",
    "%matplotlib notebook\n",
    "\n",
    "# If the cylindricalstefan library is not in your PYTHONPATH, you will not be able to load those functions\n",
    "# Check and update here if necessary\n",
    "import sys\n",
    "cs_dir = '/home/fenics/shared/'\n",
    "if cs_dir not in sys.path:\n",
    "    sys.path.append(cs_dir)\n",
    "    \n",
    "# Import functions and constants from the cylindricalstefan library\n",
    "from cylindricalstefan.lib.internal_temperature_model import *\n",
    "from cylindricalstefan.lib.constants import constantsHotPointDrill\n",
    "const = constantsHotPointDrill()"
   ]
  },
  {
   "cell_type": "code",
   "execution_count": null,
   "metadata": {},
   "outputs": [],
   "source": [
    "mod = internal_temperature_model()\n",
    "\n",
    "mod.n = 1000\n",
    "mod.T_inf = -5.\n",
    "mod.R_inf = 10.\n",
    "mod.t_final = 5.*3600.\n",
    "mod.Q_initialize = 2200.\n",
    "mod.log_transform()\n",
    "mod.get_domain()\n",
    "mod.get_initial_conditions()\n",
    "mod.get_boundary_conditions()\n",
    "\n",
    "mod.run()"
   ]
  },
  {
   "cell_type": "code",
   "execution_count": null,
   "metadata": {},
   "outputs": [],
   "source": [
    "plt.figure()\n",
    "\n",
    "plt.subplot(311)\n",
    "plt.tick_params(labelbottom=False)\n",
    "plt.plot(100*np.exp(mod.coords)*mod.R_melt,mod.astar.vector(),'k')\n",
    "plt.xlim(0,20)\n",
    "plt.ylabel('Diffusivity')\n",
    "\n",
    "plt.subplot(312)\n",
    "plt.plot(100*np.exp(mod.coords[:,0])*mod.R_melt,np.transpose(mod.T_result),'k',alpha=0.1);\n",
    "plt.xlim(0,20)\n",
    "plt.xlabel('Radial Distance (cm)')\n",
    "plt.ylabel('Temperature ($^\\circ$C)')\n",
    "\n",
    "plt.subplot(313)\n",
    "plt.plot((mod.save_times-mod.ts[0])*mod.t0/3600.,mod.T_result[:,-1],'k')\n",
    "plt.xlabel('Time (hrs)')\n",
    "plt.ylabel('Inner Temp ($^\\circ$C)')\n",
    "\n",
    "plt.tight_layout()\n",
    "\n",
    "plt.savefig('Probe_Temperature.png',dpi=300)"
   ]
  }
 ],
 "metadata": {
  "kernelspec": {
   "display_name": "Python 3",
   "language": "python",
   "name": "python3"
  },
  "language_info": {
   "codemirror_mode": {
    "name": "ipython",
    "version": 3
   },
   "file_extension": ".py",
   "mimetype": "text/x-python",
   "name": "python",
   "nbconvert_exporter": "python",
   "pygments_lexer": "ipython3",
   "version": "3.6.9"
  }
 },
 "nbformat": 4,
 "nbformat_minor": 2
}
